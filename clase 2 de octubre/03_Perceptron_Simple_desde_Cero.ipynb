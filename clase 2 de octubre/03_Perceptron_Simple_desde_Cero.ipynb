{
  "cells": [
    {
      "cell_type": "markdown",
      "metadata": {
        "id": "jpv-5z-Fb4UA"
      },
      "source": [
        "# Perceptrón Simple: Implementación desde Cero con NumPy\n",
        "\n",
        "**Materiales desarrollados por Matías Barreto, 2025**\n",
        "\n",
        "**Tecnicatura en Ciencia de Datos - IFTS**\n",
        "\n",
        "**Asignatura:** Procesamiento de Lenguaje Natural\n",
        "\n",
        "---\n",
        "\n",
        "## Introducción\n",
        "\n",
        "En este notebook vamos a construir desde cero, usando únicamente NumPy, el modelo más fundamental de las redes neuronales: el **Perceptrón Simple**. Inventado por Frank Rosenblatt en 1958, el perceptrón fue la primera implementación de una neurona artificial y sentó las bases para toda la inteligencia artificial moderna.\n",
        "\n",
        "### ¿Por qué implementarlo desde cero?\n",
        "\n",
        "Antes de usar frameworks como PyTorch o TensorFlow, es fundamental entender **qué está pasando bajo el capó**:\n",
        "\n",
        "1. **Desmitificar el deep learning**: Una neurona es solo multiplicaciones, sumas y una función no lineal\n",
        "2. **Debugging conceptual**: Cuando algo falle en PyTorch, vas a entender el por qué\n",
        "3. **Intuición sobre backpropagation**: La regla de actualización del perceptrón es la versión más simple de descenso de gradiente\n",
        "4. **Apreciación de frameworks**: Después de programar 50 líneas para un perceptrón, vas a valorar `model.fit()`\n",
        "\n",
        "### Objetivos de aprendizaje\n",
        "\n",
        "1. Comprender la arquitectura de una neurona artificial\n",
        "2. Implementar la función de activación escalón\n",
        "3. Programar la regla de aprendizaje del perceptrón\n",
        "4. Entrenar el modelo ajustando pesos manualmente\n",
        "5. Entender las limitaciones de modelos linealmente separables\n",
        "6. Preparar el camino conceptual para redes multicapa\n",
        "\n",
        "### Contexto histórico\n",
        "\n",
        "**1958**: Frank Rosenblatt presenta el perceptrón en Cornell\n",
        "**1969**: Minsky y Papert publican \"Perceptrons\", mostrando sus limitaciones (no puede resolver XOR)\n",
        "**1986**: Rumelhart, Hinton y Williams popularizarán backpropagation para redes multicapa\n",
        "**Hoy**: El perceptrón es el building block de redes con millones de parámetros"
      ]
    },
    {
      "cell_type": "markdown",
      "metadata": {
        "id": "AU4aeM7Eb4UH"
      },
      "source": [
        "---\n",
        "\n",
        "## 1. Importación de Librerías\n",
        "\n",
        "Solo necesitamos NumPy para operaciones numéricas. No vamos a usar scikit-learn ni ningún framework de ML."
      ]
    },
    {
      "cell_type": "code",
      "execution_count": null,
      "metadata": {
        "colab": {
          "base_uri": "https://localhost:8080/"
        },
        "id": "CJCtzTEkb4UJ",
        "outputId": "382138e8-cafa-4216-f971-1283fbe1e8e5"
      },
      "outputs": [
        {
          "output_type": "stream",
          "name": "stdout",
          "text": [
            "Librerías importadas correctamente.\n",
            "NumPy versión: 2.0.2\n"
          ]
        }
      ],
      "source": [
        "# NumPy: Para arrays y operaciones numéricas\n",
        "import numpy as np\n",
        "\n",
        "# Matplotlib: Para visualización (opcional)\n",
        "import matplotlib.pyplot as plt\n",
        "\n",
        "# Fijamos semilla para reproducibilidad\n",
        "# Esto garantiza que los pesos aleatorios iniciales sean siempre los mismos\n",
        "np.random.seed(42)\n",
        "\n",
        "print(\"Librerías importadas correctamente.\")\n",
        "print(f\"NumPy versión: {np.__version__}\")"
      ]
    },
    {
      "cell_type": "markdown",
      "metadata": {
        "id": "GNhOdO1Sb4UP"
      },
      "source": [
        "---\n",
        "\n",
        "## 2. Dataset: Análisis de Sentimiento en Español Rioplatense\n",
        "\n",
        "Vamos a trabajar con un conjunto pequeño de frases etiquetadas. Usamos vocabulario coloquial argentino para que sea cercano y realista."
      ]
    },
    {
      "cell_type": "code",
      "execution_count": null,
      "metadata": {
        "colab": {
          "base_uri": "https://localhost:8080/"
        },
        "id": "QBnPkn3Ab4UR",
        "outputId": "2145cb58-4a55-48f3-d055-6efd6c199be1"
      },
      "outputs": [
        {
          "output_type": "stream",
          "name": "stdout",
          "text": [
            "Corpus de entrenamiento:\n",
            "======================================================================\n",
            "1. [POSITIVO] Amo el verano en Buenos Aires\n",
            "2. [NEGATIVO] No me gusta el tráfico matutino\n",
            "3. [POSITIVO] Este asado está espectacular\n",
            "4. [NEGATIVO] Qué bajón, perdí el colectivo\n",
            "5. [POSITIVO] Me encanta salir los domingos\n",
            "6. [NEGATIVO] Detesto el calor húmedo\n",
            "\n",
            "Total de frases: 6\n",
            "Distribución: [3 3] (negativas, positivas)\n"
          ]
        }
      ],
      "source": [
        "# Corpus de frases con sentimiento etiquetado\n",
        "# 1 = Positivo, 0 = Negativo\n",
        "frases = [\n",
        "    \"Amo el verano en Buenos Aires\",\n",
        "    \"No me gusta el tráfico matutino\",\n",
        "    \"Este asado está espectacular\",\n",
        "    \"Qué bajón, perdí el colectivo\",\n",
        "    \"Me encanta salir los domingos\",\n",
        "    \"Detesto el calor húmedo\"\n",
        "]\n",
        "\n",
        "# Etiquetas: 1 = sentimiento positivo, 0 = sentimiento negativo\n",
        "etiquetas = np.array([1, 0, 1, 0, 1, 0])\n",
        "\n",
        "print(\"Corpus de entrenamiento:\")\n",
        "print(\"=\" * 70)\n",
        "for i, (frase, etiq) in enumerate(zip(frases, etiquetas), 1):\n",
        "    sentimiento = \"POSITIVO\" if etiq == 1 else \"NEGATIVO\"\n",
        "    print(f\"{i}. [{sentimiento}] {frase}\")\n",
        "\n",
        "print(f\"\\nTotal de frases: {len(frases)}\")\n",
        "print(f\"Distribución: {np.bincount(etiquetas)} (negativas, positivas)\")"
      ]
    },
    {
      "cell_type": "markdown",
      "metadata": {
        "id": "GwcDGr6Fb4US"
      },
      "source": [
        "---\n",
        "\n",
        "## 3. Construcción del Vocabulario\n",
        "\n",
        "Definimos manualmente un vocabulario de palabras clave con carga emocional. En un sistema real, esto se construiría automáticamente, pero aquí lo hacemos explícito para fines didácticos."
      ]
    },
    {
      "cell_type": "code",
      "execution_count": null,
      "metadata": {
        "colab": {
          "base_uri": "https://localhost:8080/"
        },
        "id": "pj6pVPxxb4UU",
        "outputId": "9610f55d-31e1-44ac-846f-9c92fe95a7cd"
      },
      "outputs": [
        {
          "output_type": "stream",
          "name": "stdout",
          "text": [
            "Vocabulario construido con 10 palabras:\n",
            "['amo', 'no', 'gusta', 'asado', 'espectacular', 'bajón', 'perdí', 'encanta', 'detesto', 'calor']\n",
            "\n",
            "Nota: Este vocabulario es pequeño y manual por fines pedagógicos.\n",
            "En un sistema real, usaríamos TF-IDF o embeddings pre-entrenados.\n"
          ]
        }
      ],
      "source": [
        "# Vocabulario: palabras con carga emocional\n",
        "# Elegimos palabras que aparecen en las frases y que tienen connotación clara\n",
        "vocabulario = [\n",
        "    \"amo\",           # Positiva\n",
        "    \"no\",            # Negativa (negación)\n",
        "    \"gusta\",         # Positiva\n",
        "    \"asado\",         # Positiva (cultural argentino)\n",
        "    \"espectacular\",  # Positiva\n",
        "    \"bajón\",         # Negativa (jerga argentina)\n",
        "    \"perdí\",         # Negativa\n",
        "    \"encanta\",       # Positiva\n",
        "    \"detesto\",       # Negativa\n",
        "    \"calor\"          # Neutral/contexto\n",
        "]\n",
        "\n",
        "print(f\"Vocabulario construido con {len(vocabulario)} palabras:\")\n",
        "print(vocabulario)\n",
        "\n",
        "print(\"\\nNota: Este vocabulario es pequeño y manual por fines pedagógicos.\")\n",
        "print(\"En un sistema real, usaríamos TF-IDF o embeddings pre-entrenados.\")"
      ]
    },
    {
      "cell_type": "markdown",
      "metadata": {
        "id": "ZNJdqHEgb4UW"
      },
      "source": [
        "---\n",
        "\n",
        "## 4. Vectorización: De Texto a Números\n",
        "\n",
        "Convertimos cada frase en un **vector binario** de longitud igual al vocabulario:\n",
        "- `1` si la palabra aparece en la frase\n",
        "- `0` si no aparece\n",
        "\n",
        "Esto se conoce como **Bag of Words binario** (ignora frecuencia, solo presencia/ausencia)."
      ]
    },
    {
      "cell_type": "code",
      "execution_count": null,
      "metadata": {
        "colab": {
          "base_uri": "https://localhost:8080/"
        },
        "id": "ZAN36FvQb4UX",
        "outputId": "00e94e5a-be6a-484a-b343-afa94ba45282"
      },
      "outputs": [
        {
          "output_type": "stream",
          "name": "stdout",
          "text": [
            "Matriz de características (X):\n",
            "======================================================================\n",
            "Forma: (6, 10) (filas = frases, columnas = palabras del vocabulario)\n",
            "\n",
            "Primeras 3 filas:\n",
            "[[1 0 0 0 0 0 0 0 0 0]\n",
            " [0 1 1 0 0 0 0 0 0 0]\n",
            " [0 0 0 1 1 0 0 0 0 0]]\n",
            "\n",
            "Interpretación:\n",
            "Frase 1: 'Amo el verano en Buenos Aires'\n",
            "Vector: [1 0 0 0 0 0 0 0 0 0]\n",
            "Palabras presentes: ['amo']\n"
          ]
        }
      ],
      "source": [
        "def vectorizar(frase, vocabulario):\n",
        "    \"\"\"\n",
        "    Convierte una frase en un vector binario según el vocabulario.\n",
        "\n",
        "    Args:\n",
        "        frase (str): La frase a vectorizar\n",
        "        vocabulario (list): Lista de palabras del vocabulario\n",
        "\n",
        "    Returns:\n",
        "        np.array: Vector binario de longitud len(vocabulario)\n",
        "\n",
        "    Ejemplo:\n",
        "        frase = \"Me gusta el asado\"\n",
        "        vocabulario = [\"gusta\", \"asado\", \"detesto\"]\n",
        "        vectorizar(frase, vocabulario) -> [1, 1, 0]\n",
        "    \"\"\"\n",
        "    # Tokenización simple: split por espacios y convertir a minúsculas\n",
        "    tokens = frase.lower().split()\n",
        "\n",
        "    # Crear vector: 1 si palabra está en tokens, 0 si no\n",
        "    vector = np.array([1 if palabra in tokens else 0 for palabra in vocabulario])\n",
        "\n",
        "    return vector\n",
        "\n",
        "\n",
        "# Aplicamos la vectorización a todas las frases\n",
        "X = np.array([vectorizar(frase, vocabulario) for frase in frases])\n",
        "\n",
        "print(\"Matriz de características (X):\")\n",
        "print(\"=\" * 70)\n",
        "print(f\"Forma: {X.shape} (filas = frases, columnas = palabras del vocabulario)\")\n",
        "print(\"\\nPrimeras 3 filas:\")\n",
        "print(X[:3])\n",
        "\n",
        "print(\"\\nInterpretación:\")\n",
        "print(f\"Frase 1: '{frases[0]}'\")\n",
        "print(f\"Vector: {X[0]}\")\n",
        "print(f\"Palabras presentes: {[vocabulario[i] for i in range(len(vocabulario)) if X[0][i] == 1]}\")"
      ]
    },
    {
      "cell_type": "markdown",
      "metadata": {
        "id": "R6x5nW28b4Ua"
      },
      "source": [
        "---\n",
        "\n",
        "## 5. Arquitectura del Perceptrón\n",
        "\n",
        "Un perceptrón es una neurona artificial que realiza una clasificación binaria. Su arquitectura consta de:\n",
        "\n",
        "### Componentes:\n",
        "\n",
        "1. **Vector de entrada (x)**: Las features (en nuestro caso, el vector de palabras)\n",
        "2. **Pesos sinápticos (w)**: Un peso por cada feature, determina la importancia\n",
        "3. **Bias (b)**: Un término constante (sesgo)\n",
        "4. **Suma ponderada (z)**: z = w₁x₁ + w₂x₂ + ... + wₙxₙ + b\n",
        "5. **Función de activación (σ)**: Transforma z en una predicción\n",
        "\n",
        "### Fórmula matemática:\n",
        "\n",
        "$$y = \\sigma(\\sum_{i=1}^{n} w_i x_i + b)$$\n",
        "\n",
        "Donde:\n",
        "- $x_i$: Feature i\n",
        "- $w_i$: Peso de la feature i\n",
        "- $b$: Bias\n",
        "- $\\sigma$: Función de activación escalón\n",
        "\n",
        "### Función de activación escalón:\n",
        "\n",
        "$$\n",
        "\\sigma(z) =\n",
        "\\begin{cases}\n",
        "1 & \\text{si } z > 0 \\\\\n",
        "0 & \\text{si } z \\leq 0\n",
        "\\end{cases}\n",
        "$$\n",
        "\n",
        "### Visualización:\n",
        "\n",
        "```\n",
        "x₁ ──w₁──┐\n",
        "x₂ ──w₂──┤\n",
        "x₃ ──w₃──├──> Σ + b ──> σ(z) ──> y (0 o 1)\n",
        "   ...   │\n",
        "xₙ ──wₙ──┘\n",
        "```"
      ]
    },
    {
      "cell_type": "code",
      "execution_count": null,
      "metadata": {
        "colab": {
          "base_uri": "https://localhost:8080/"
        },
        "id": "yO3ahC8Ub4Ub",
        "outputId": "daf86e7c-09da-4f42-cd2b-2fe6b60b8c01"
      },
      "outputs": [
        {
          "output_type": "stream",
          "name": "stdout",
          "text": [
            "Parámetros del perceptrón inicializados:\n",
            "======================================================================\n",
            "Número de features: 10\n",
            "\n",
            "Pesos iniciales (aleatorios):\n",
            "  w[amo] = 0.4967\n",
            "  w[no] = -0.1383\n",
            "  w[gusta] = 0.6477\n",
            "  w[asado] = 1.5230\n",
            "  w[espectacular] = -0.2342\n",
            "  w[bajón] = -0.2341\n",
            "  w[perdí] = 1.5792\n",
            "  w[encanta] = 0.7674\n",
            "  w[detesto] = -0.4695\n",
            "  w[calor] = 0.5426\n",
            "\n",
            "Bias inicial: 0.0\n",
            "\n",
            "Nota: Los pesos aleatorios se ajustarán durante el entrenamiento.\n"
          ]
        }
      ],
      "source": [
        "# Inicializamos los parámetros del perceptrón\n",
        "\n",
        "# Dimensión del vector de entrada (número de palabras en el vocabulario)\n",
        "n_features = len(vocabulario)\n",
        "\n",
        "# Pesos sinápticos: uno por cada feature\n",
        "# Inicialización aleatoria desde una distribución normal\n",
        "# randn() genera números con media 0 y desviación estándar 1\n",
        "pesos = np.random.randn(n_features)\n",
        "\n",
        "# Bias (sesgo): inicializado en 0\n",
        "bias = 0.0\n",
        "\n",
        "print(\"Parámetros del perceptrón inicializados:\")\n",
        "print(\"=\" * 70)\n",
        "print(f\"Número de features: {n_features}\")\n",
        "print(f\"\\nPesos iniciales (aleatorios):\")\n",
        "for i, palabra in enumerate(vocabulario):\n",
        "    print(f\"  w[{palabra}] = {pesos[i]:.4f}\")\n",
        "print(f\"\\nBias inicial: {bias}\")\n",
        "\n",
        "print(\"\\nNota: Los pesos aleatorios se ajustarán durante el entrenamiento.\")"
      ]
    },
    {
      "cell_type": "markdown",
      "metadata": {
        "id": "5UgIFS63b4Ub"
      },
      "source": [
        "---\n",
        "\n",
        "## 6. Función de Activación: Escalón\n",
        "\n",
        "La función escalón (step function) es la más simple de las funciones de activación:\n",
        "- Retorna `1` si la entrada es positiva\n",
        "- Retorna `0` si la entrada es negativa o cero\n",
        "\n",
        "**Limitación importante**: No es diferenciable en z=0, por lo que no se puede usar con backpropagation. Por eso las redes modernas usan ReLU, sigmoid o tanh."
      ]
    },
    {
      "cell_type": "code",
      "execution_count": null,
      "metadata": {
        "colab": {
          "base_uri": "https://localhost:8080/",
          "height": 494
        },
        "id": "kyIIRSpnb4Uc",
        "outputId": "64c64133-eba1-4b83-83b0-32ed1620cf95"
      },
      "outputs": [
        {
          "output_type": "display_data",
          "data": {
            "text/plain": [
              "<Figure size 1000x400 with 1 Axes>"
            ],
            "image/png": "[encoded data removed]"
          },
          "metadata": {}
        },
        {
          "output_type": "stream",
          "name": "stdout",
          "text": [
            "Características de la función escalón:\n",
            "- Discontinua en z=0\n",
            "- No diferenciable (derivada no definida en z=0)\n",
            "- Salida binaria: solo 0 o 1\n",
            "- Históricamente importante pero ya no se usa en deep learning moderno\n"
          ]
        }
      ],
      "source": [
        "def activacion_escalon(z):\n",
        "    \"\"\"\n",
        "    Función de activación escalón (step function).\n",
        "\n",
        "    Args:\n",
        "        z (float): Suma ponderada de entradas\n",
        "\n",
        "    Returns:\n",
        "        int: 1 si z > 0, sino 0\n",
        "    \"\"\"\n",
        "    return 1 if z > 0 else 0\n",
        "\n",
        "\n",
        "# Visualización de la función escalón\n",
        "z_values = np.linspace(-5, 5, 100)\n",
        "activaciones = [activacion_escalon(z) for z in z_values]\n",
        "\n",
        "plt.figure(figsize=(10, 4))\n",
        "plt.plot(z_values, activaciones, linewidth=2, color='blue')\n",
        "plt.axhline(y=0.5, color='gray', linestyle='--', alpha=0.5)\n",
        "plt.axvline(x=0, color='gray', linestyle='--', alpha=0.5)\n",
        "plt.xlabel('z (suma ponderada)', fontsize=12)\n",
        "plt.ylabel('σ(z) (salida)', fontsize=12)\n",
        "plt.title('Función de Activación Escalón', fontsize=14, pad=15)\n",
        "plt.grid(True, alpha=0.3)\n",
        "plt.ylim(-0.1, 1.1)\n",
        "plt.tight_layout()\n",
        "plt.show()\n",
        "\n",
        "print(\"Características de la función escalón:\")\n",
        "print(\"- Discontinua en z=0\")\n",
        "print(\"- No diferenciable (derivada no definida en z=0)\")\n",
        "print(\"- Salida binaria: solo 0 o 1\")\n",
        "print(\"- Históricamente importante pero ya no se usa en deep learning moderno\")"
      ]
    },
    {
      "cell_type": "markdown",
      "metadata": {
        "id": "junZO-oEb4Ud"
      },
      "source": [
        "---\n",
        "\n",
        "## 7. Función de Predicción\n",
        "\n",
        "Implementamos la función forward (propagación hacia adelante) del perceptrón."
      ]
    },
    {
      "cell_type": "code",
      "execution_count": null,
      "metadata": {
        "colab": {
          "base_uri": "https://localhost:8080/"
        },
        "id": "B7u0bvw3b4Ud",
        "outputId": "7b357c39-ac2a-4384-b016-71692c5039e6"
      },
      "outputs": [
        {
          "output_type": "stream",
          "name": "stdout",
          "text": [
            "Prueba de predicción con pesos aleatorios (antes del entrenamiento):\n",
            "======================================================================\n",
            "Frase: 'Amo el verano en Buenos Aires'\n",
            "Etiqueta real: 1 (Positivo)\n",
            "Predicción: 1 (Positivo)\n",
            "\n",
            "¿Es correcta? True\n",
            "\n",
            "Nota: Es probable que falle porque los pesos son aleatorios.\n",
            "El entrenamiento ajustará los pesos para mejorar las predicciones.\n"
          ]
        }
      ],
      "source": [
        "def predecir(x, pesos, bias):\n",
        "    \"\"\"\n",
        "    Realiza una predicción con el perceptrón.\n",
        "\n",
        "    Args:\n",
        "        x (np.array): Vector de entrada (features)\n",
        "        pesos (np.array): Vector de pesos\n",
        "        bias (float): Término de sesgo\n",
        "\n",
        "    Returns:\n",
        "        int: Predicción (0 o 1)\n",
        "\n",
        "    Proceso:\n",
        "        1. Calcular suma ponderada: z = w·x + b\n",
        "        2. Aplicar función de activación: y = σ(z)\n",
        "    \"\"\"\n",
        "    # Producto punto: suma de productos elemento a elemento\n",
        "    # np.dot(w, x) = w₁x₁ + w₂x₂ + ... + wₙxₙ\n",
        "    z = np.dot(pesos, x) + bias\n",
        "\n",
        "    # Aplicamos la función de activación\n",
        "    y_pred = activacion_escalon(z)\n",
        "\n",
        "    return y_pred\n",
        "\n",
        "\n",
        "# Probamos la función de predicción con una frase de ejemplo\n",
        "print(\"Prueba de predicción con pesos aleatorios (antes del entrenamiento):\")\n",
        "print(\"=\" * 70)\n",
        "\n",
        "frase_test = frases[0]\n",
        "x_test = X[0]\n",
        "y_real = etiquetas[0]\n",
        "\n",
        "prediccion = predecir(x_test, pesos, bias)\n",
        "\n",
        "print(f\"Frase: '{frase_test}'\")\n",
        "print(f\"Etiqueta real: {y_real} ({'Positivo' if y_real == 1 else 'Negativo'})\")\n",
        "print(f\"Predicción: {prediccion} ({'Positivo' if prediccion == 1 else 'Negativo'})\")\n",
        "print(f\"\\n¿Es correcta? {prediccion == y_real}\")\n",
        "print(\"\\nNota: Es probable que falle porque los pesos son aleatorios.\")\n",
        "print(\"El entrenamiento ajustará los pesos para mejorar las predicciones.\")"
      ]
    },
    {
      "cell_type": "markdown",
      "metadata": {
        "id": "6ExYYXiyb4Ue"
      },
      "source": [
        "---\n",
        "\n",
        "## 8. Regla de Aprendizaje del Perceptrón\n",
        "\n",
        "El perceptrón aprende ajustando sus pesos cuando comete un error. La regla de actualización es:\n",
        "\n",
        "### Fórmula de actualización:\n",
        "\n",
        "$$w_i^{nuevo} = w_i^{viejo} + \\alpha \\cdot error \\cdot x_i$$\n",
        "\n",
        "$$b^{nuevo} = b^{viejo} + \\alpha \\cdot error$$\n",
        "\n",
        "Donde:\n",
        "- $\\alpha$: Tasa de aprendizaje (learning rate), controla el tamaño del paso\n",
        "- $error = y_{real} - y_{predicho}$: Diferencia entre lo esperado y lo predicho\n",
        "- $x_i$: Valor de la feature i\n",
        "\n",
        "### Intuición:\n",
        "\n",
        "**Si error = 0** (predicción correcta):\n",
        "- No se actualizan los pesos\n",
        "\n",
        "**Si error = +1** (debía predecir 1 pero predijo 0):\n",
        "- Los pesos aumentan proporcionalmente a las features activas\n",
        "- Esto hace que la próxima vez sea más probable predecir 1\n",
        "\n",
        "**Si error = -1** (debía predecir 0 pero predijo 1):\n",
        "- Los pesos disminuyen proporcionalmente a las features activas\n",
        "- Esto hace que la próxima vez sea más probable predecir 0\n",
        "\n",
        "Esta regla es la versión más simple de **descenso de gradiente**, el algoritmo fundamental del deep learning."
      ]
    },
    {
      "cell_type": "code",
      "execution_count": null,
      "metadata": {
        "colab": {
          "base_uri": "https://localhost:8080/"
        },
        "id": "abe3C-f3b4Uf",
        "outputId": "72f2b39b-e891-4581-eea0-8212bcf40baf"
      },
      "outputs": [
        {
          "output_type": "stream",
          "name": "stdout",
          "text": [
            "Iniciando entrenamiento del perceptrón...\n",
            "======================================================================\n",
            "Tasa de aprendizaje (α): 0.1\n",
            "Épocas: 20\n",
            "Muestras de entrenamiento: 6\n",
            "======================================================================\n",
            "\n",
            "Época  1/20: Errores = 2\n",
            "Época  2/20: Errores = 3\n",
            "Época  3/20: Errores = 1\n",
            "Época  4/20: Errores = 1\n",
            "Época  5/20: Errores = 2\n",
            "Época  6/20: Errores = 1\n",
            "Época  7/20: Errores = 1\n",
            "Época  8/20: Errores = 2\n",
            "Época  9/20: Errores = 1\n",
            "Época 10/20: Errores = 1\n",
            "Época 11/20: Errores = 2\n",
            "Época 12/20: Errores = 1\n",
            "Época 13/20: Errores = 2\n",
            "Época 14/20: Errores = 1\n",
            "Época 15/20: Errores = 1\n",
            "Época 16/20: Errores = 0\n",
            "Época 17/20: Errores = 0\n",
            "Época 18/20: Errores = 0\n",
            "Época 19/20: Errores = 0\n",
            "Época 20/20: Errores = 0\n",
            "\n",
            "======================================================================\n",
            "Entrenamiento completado.\n",
            "El modelo convergió: no hubo errores en la última época.\n"
          ]
        }
      ],
      "source": [
        "def entrenar_perceptron(X, y, tasa_aprendizaje=0.1, epocas=20, verbose=True):\n",
        "    \"\"\"\n",
        "    Entrena un perceptrón simple usando la regla de aprendizaje del perceptrón.\n",
        "\n",
        "    Args:\n",
        "        X (np.array): Matriz de características (n_muestras, n_features)\n",
        "        y (np.array): Vector de etiquetas (n_muestras,)\n",
        "        tasa_aprendizaje (float): Tamaño del paso de actualización (α)\n",
        "        epocas (int): Número de pasadas completas por el dataset\n",
        "        verbose (bool): Si True, imprime progreso del entrenamiento\n",
        "\n",
        "    Returns:\n",
        "        tuple: (pesos_finales, bias_final, historial_errores)\n",
        "    \"\"\"\n",
        "    # Inicialización de parámetros\n",
        "    n_muestras, n_features = X.shape\n",
        "    pesos = np.random.randn(n_features)\n",
        "    bias = 0.0\n",
        "\n",
        "    # Lista para guardar el número de errores por época\n",
        "    historial_errores = []\n",
        "\n",
        "    if verbose:\n",
        "        print(\"Iniciando entrenamiento del perceptrón...\")\n",
        "        print(\"=\" * 70)\n",
        "        print(f\"Tasa de aprendizaje (α): {tasa_aprendizaje}\")\n",
        "        print(f\"Épocas: {epocas}\")\n",
        "        print(f\"Muestras de entrenamiento: {n_muestras}\")\n",
        "        print(\"=\" * 70)\n",
        "        print()\n",
        "\n",
        "    # Bucle de entrenamiento\n",
        "    for epoca in range(epocas):\n",
        "        errores = 0  # Contador de errores en esta época\n",
        "\n",
        "        # Iteramos sobre cada muestra de entrenamiento\n",
        "        for i in range(n_muestras):\n",
        "            x_i = X[i]      # Vector de entrada i\n",
        "            y_real = y[i]   # Etiqueta real i\n",
        "\n",
        "            # Paso 1: Hacer predicción\n",
        "            y_pred = predecir(x_i, pesos, bias)\n",
        "\n",
        "            # Paso 2: Calcular error\n",
        "            error = y_real - y_pred\n",
        "\n",
        "            # Paso 3: Actualizar pesos si hay error\n",
        "            if error != 0:\n",
        "                # Actualización de pesos: w = w + α × error × x\n",
        "                pesos += tasa_aprendizaje * error * x_i\n",
        "\n",
        "                # Actualización de bias: b = b + α × error\n",
        "                bias += tasa_aprendizaje * error\n",
        "\n",
        "                # Incrementamos contador de errores\n",
        "                errores += 1\n",
        "\n",
        "        # Guardamos el número de errores de esta época\n",
        "        historial_errores.append(errores)\n",
        "\n",
        "        # Imprimimos progreso\n",
        "        if verbose:\n",
        "            print(f\"Época {epoca + 1:2d}/{epocas}: Errores = {errores}\")\n",
        "\n",
        "    if verbose:\n",
        "        print(\"\\n\" + \"=\" * 70)\n",
        "        print(\"Entrenamiento completado.\")\n",
        "        if errores == 0:\n",
        "            print(\"El modelo convergió: no hubo errores en la última época.\")\n",
        "        else:\n",
        "            print(f\"Nota: Quedaron {errores} errores. El problema podría no ser linealmente separable.\")\n",
        "\n",
        "    return pesos, bias, historial_errores\n",
        "\n",
        "\n",
        "# Ejecutamos el entrenamiento\n",
        "pesos_entrenados, bias_entrenado, historial = entrenar_perceptron(\n",
        "    X, etiquetas,\n",
        "    tasa_aprendizaje=0.1,\n",
        "    epocas=20,\n",
        "    verbose=True\n",
        ")"
      ]
    },
    {
      "cell_type": "markdown",
      "metadata": {
        "id": "snBlIu9sb4Ug"
      },
      "source": [
        "---\n",
        "\n",
        "## 9. Visualización del Aprendizaje\n",
        "\n",
        "Graficamos cómo evolucionó el número de errores durante el entrenamiento."
      ]
    },
    {
      "cell_type": "code",
      "execution_count": null,
      "metadata": {
        "colab": {
          "base_uri": "https://localhost:8080/",
          "height": 576
        },
        "id": "Zye2yejOb4Ug",
        "outputId": "35d68e68-b202-466c-d2a9-3ef12851f27c"
      },
      "outputs": [
        {
          "output_type": "display_data",
          "data": {
            "text/plain": [
              "<Figure size 1000x500 with 1 Axes>"
            ],
            "image/png": "[encoded data removed]"
          },
          "metadata": {}
        },
        {
          "output_type": "stream",
          "name": "stdout",
          "text": [
            "Interpretación de la curva:\n",
            "- Una curva descendente indica que el modelo está aprendiendo\n",
            "- Si llega a 0, el modelo convergió (clasifica perfectamente el training set)\n",
            "- Si oscila sin bajar, el problema podría no ser linealmente separable\n"
          ]
        }
      ],
      "source": [
        "# Gráfico de errores por época\n",
        "plt.figure(figsize=(10, 5))\n",
        "plt.plot(range(1, len(historial) + 1), historial, marker='o', linewidth=2, markersize=8)\n",
        "plt.xlabel('Época', fontsize=12)\n",
        "plt.ylabel('Número de Errores', fontsize=12)\n",
        "plt.title('Curva de Aprendizaje del Perceptrón', fontsize=14, pad=15)\n",
        "plt.grid(True, alpha=0.3)\n",
        "plt.xticks(range(1, len(historial) + 1))\n",
        "plt.tight_layout()\n",
        "plt.show()\n",
        "\n",
        "print(\"Interpretación de la curva:\")\n",
        "print(\"- Una curva descendente indica que el modelo está aprendiendo\")\n",
        "print(\"- Si llega a 0, el modelo convergió (clasifica perfectamente el training set)\")\n",
        "print(\"- Si oscila sin bajar, el problema podría no ser linealmente separable\")"
      ]
    },
    {
      "cell_type": "markdown",
      "metadata": {
        "id": "tyyMxRHzb4Uh"
      },
      "source": [
        "---\n",
        "\n",
        "## 10. Análisis de Pesos Aprendidos\n",
        "\n",
        "Inspeccionamos los pesos finales para entender qué aprendió el modelo."
      ]
    },
    {
      "cell_type": "code",
      "execution_count": null,
      "metadata": {
        "colab": {
          "base_uri": "https://localhost:8080/"
        },
        "id": "UxlEqcWYb4Uh",
        "outputId": "0bdd3328-a07c-44ac-c444-6a3aec87ce68"
      },
      "outputs": [
        {
          "output_type": "stream",
          "name": "stdout",
          "text": [
            "Pesos aprendidos por el perceptrón:\n",
            "======================================================================\n",
            "\n",
            "Palabras ordenadas por influencia (de más positiva a más negativa):\n",
            "\n",
            "  encanta         → peso =  0.3142  [POSITIVA]\n",
            "  gusta           → peso = -0.2580  [NEGATIVA]\n",
            "  amo             → peso = -0.2634  [NEGATIVA]\n",
            "  espectacular    → peso = -0.3249  [NEGATIVA]\n",
            "  asado           → peso = -0.5133  [NEGATIVA]\n",
            "  bajón           → peso = -0.5623  [NEGATIVA]\n",
            "  detesto         → peso = -0.9080  [NEGATIVA]\n",
            "  no              → peso = -0.9657  [NEGATIVA]\n",
            "  perdí           → peso = -1.1128  [NEGATIVA]\n",
            "  calor           → peso = -1.4123  [NEGATIVA]\n",
            "\n",
            "Bias (sesgo): 1.0000\n",
            "\n",
            "======================================================================\n",
            "Interpretación:\n",
            "- Pesos positivos: Palabras asociadas con sentimiento positivo\n",
            "- Pesos negativos: Palabras asociadas con sentimiento negativo\n",
            "- Magnitud del peso: Importancia de la palabra en la decisión\n"
          ]
        }
      ],
      "source": [
        "print(\"Pesos aprendidos por el perceptrón:\")\n",
        "print(\"=\" * 70)\n",
        "\n",
        "# Ordenamos palabras por peso (de más positivo a más negativo)\n",
        "indices_ordenados = np.argsort(pesos_entrenados)[::-1]\n",
        "\n",
        "print(\"\\nPalabras ordenadas por influencia (de más positiva a más negativa):\\n\")\n",
        "for idx in indices_ordenados:\n",
        "    palabra = vocabulario[idx]\n",
        "    peso = pesos_entrenados[idx]\n",
        "    if peso > 0:\n",
        "        influencia = \"POSITIVA\"\n",
        "    elif peso < 0:\n",
        "        influencia = \"NEGATIVA\"\n",
        "    else:\n",
        "        influencia = \"NEUTRA\"\n",
        "\n",
        "    print(f\"  {palabra:15s} → peso = {peso:7.4f}  [{influencia}]\")\n",
        "\n",
        "print(f\"\\nBias (sesgo): {bias_entrenado:.4f}\")\n",
        "\n",
        "print(\"\\n\" + \"=\" * 70)\n",
        "print(\"Interpretación:\")\n",
        "print(\"- Pesos positivos: Palabras asociadas con sentimiento positivo\")\n",
        "print(\"- Pesos negativos: Palabras asociadas con sentimiento negativo\")\n",
        "print(\"- Magnitud del peso: Importancia de la palabra en la decisión\")"
      ]
    },
    {
      "cell_type": "markdown",
      "metadata": {
        "id": "Xgb2DZZob4Uh"
      },
      "source": [
        "---\n",
        "\n",
        "## 11. Evaluación del Modelo Entrenado\n",
        "\n",
        "Probamos el perceptrón entrenado con el conjunto de entrenamiento."
      ]
    },
    {
      "cell_type": "code",
      "execution_count": null,
      "metadata": {
        "colab": {
          "base_uri": "https://localhost:8080/"
        },
        "id": "sdHOUjhab4Ui",
        "outputId": "dd621d18-5959-4df8-c424-14ed168ed5b0"
      },
      "outputs": [
        {
          "output_type": "stream",
          "name": "stdout",
          "text": [
            "Evaluación en el conjunto de entrenamiento:\n",
            "======================================================================\n",
            "\n",
            "✓ Frase: 'Amo el verano en Buenos Aires'\n",
            "  Real: Positivo | Predicción: Positivo\n",
            "\n",
            "✓ Frase: 'No me gusta el tráfico matutino'\n",
            "  Real: Negativo | Predicción: Negativo\n",
            "\n",
            "✓ Frase: 'Este asado está espectacular'\n",
            "  Real: Positivo | Predicción: Positivo\n",
            "\n",
            "✓ Frase: 'Qué bajón, perdí el colectivo'\n",
            "  Real: Negativo | Predicción: Negativo\n",
            "\n",
            "✓ Frase: 'Me encanta salir los domingos'\n",
            "  Real: Positivo | Predicción: Positivo\n",
            "\n",
            "✓ Frase: 'Detesto el calor húmedo'\n",
            "  Real: Negativo | Predicción: Negativo\n",
            "\n",
            "======================================================================\n",
            "Accuracy: 6/6 = 100.00%\n"
          ]
        }
      ],
      "source": [
        "print(\"Evaluación en el conjunto de entrenamiento:\")\n",
        "print(\"=\" * 70)\n",
        "\n",
        "aciertos = 0\n",
        "\n",
        "for i in range(len(frases)):\n",
        "    x_i = X[i]\n",
        "    y_real = etiquetas[i]\n",
        "    y_pred = predecir(x_i, pesos_entrenados, bias_entrenado)\n",
        "\n",
        "    correcto = \"✓\" if y_pred == y_real else \"✗\"\n",
        "    if y_pred == y_real:\n",
        "        aciertos += 1\n",
        "\n",
        "    sentimiento_real = \"Positivo\" if y_real == 1 else \"Negativo\"\n",
        "    sentimiento_pred = \"Positivo\" if y_pred == 1 else \"Negativo\"\n",
        "\n",
        "    print(f\"\\n{correcto} Frase: '{frases[i]}'\")\n",
        "    print(f\"  Real: {sentimiento_real} | Predicción: {sentimiento_pred}\")\n",
        "\n",
        "accuracy = aciertos / len(frases)\n",
        "print(\"\\n\" + \"=\" * 70)\n",
        "print(f\"Accuracy: {aciertos}/{len(frases)} = {accuracy:.2%}\")"
      ]
    },
    {
      "cell_type": "markdown",
      "metadata": {
        "id": "Xrioa4rPb4Ui"
      },
      "source": [
        "---\n",
        "\n",
        "## 12. Predicción sobre Frases Nuevas\n",
        "\n",
        "Ahora probamos el perceptrón con frases que nunca vio durante el entrenamiento."
      ]
    },
    {
      "cell_type": "code",
      "execution_count": null,
      "metadata": {
        "colab": {
          "base_uri": "https://localhost:8080/"
        },
        "id": "JkF8O709b4Ui",
        "outputId": "d3f9c5a2-6125-4423-cfb6-f6100572518e"
      },
      "outputs": [
        {
          "output_type": "stream",
          "name": "stdout",
          "text": [
            "Predicciones sobre frases nuevas:\n",
            "======================================================================\n",
            "\n",
            "Frase: 'No aguanto este calor'\n",
            "Predicción: NEGATIVO\n",
            "Suma ponderada (z): -1.3780\n",
            "Palabras detectadas: ['no', 'calor']\n",
            "\n",
            "Frase: 'Qué hermoso día para pasear'\n",
            "Predicción: POSITIVO\n",
            "Suma ponderada (z): 1.0000\n",
            "Palabras detectadas: []\n",
            "\n",
            "Frase: 'Detesto levantarme temprano'\n",
            "Predicción: POSITIVO\n",
            "Suma ponderada (z): 0.0920\n",
            "Palabras detectadas: ['detesto']\n",
            "\n",
            "Frase: 'Me encanta el asado del domingo'\n",
            "Predicción: POSITIVO\n",
            "Suma ponderada (z): 0.8010\n",
            "Palabras detectadas: ['asado', 'encanta']\n",
            "\n",
            "Frase: 'Qué bajón el tráfico de hoy'\n",
            "Predicción: POSITIVO\n",
            "Suma ponderada (z): 0.4377\n",
            "Palabras detectadas: ['bajón']\n"
          ]
        }
      ],
      "source": [
        "# Frases nuevas para testear\n",
        "frases_prueba = [\n",
        "    \"No aguanto este calor\",\n",
        "    \"Qué hermoso día para pasear\",\n",
        "    \"Detesto levantarme temprano\",\n",
        "    \"Me encanta el asado del domingo\",\n",
        "    \"Qué bajón el tráfico de hoy\"\n",
        "]\n",
        "\n",
        "print(\"Predicciones sobre frases nuevas:\")\n",
        "print(\"=\" * 70)\n",
        "\n",
        "for frase in frases_prueba:\n",
        "    # Vectorizamos la frase\n",
        "    x_test = vectorizar(frase, vocabulario)\n",
        "\n",
        "    # Hacemos la predicción\n",
        "    prediccion = predecir(x_test, pesos_entrenados, bias_entrenado)\n",
        "\n",
        "    # Calculamos la suma ponderada para ver la confianza\n",
        "    z = np.dot(pesos_entrenados, x_test) + bias_entrenado\n",
        "\n",
        "    sentimiento = \"POSITIVO\" if prediccion == 1 else \"NEGATIVO\"\n",
        "\n",
        "    print(f\"\\nFrase: '{frase}'\")\n",
        "    print(f\"Predicción: {sentimiento}\")\n",
        "    print(f\"Suma ponderada (z): {z:.4f}\")\n",
        "    print(f\"Palabras detectadas: {[vocabulario[i] for i in range(len(vocabulario)) if x_test[i] == 1]}\")"
      ]
    },
    {
      "cell_type": "markdown",
      "metadata": {
        "id": "-Ha01iS-b4Uj"
      },
      "source": [
        "---\n",
        "\n",
        "## 13. Limitaciones del Perceptrón Simple\n",
        "\n",
        "El perceptrón tiene restricciones importantes que debemos entender."
      ]
    },
    {
      "cell_type": "code",
      "execution_count": null,
      "metadata": {
        "id": "DKL16G2Wb4Uj"
      },
      "outputs": [],
      "source": [
        "print(\"LIMITACIONES DEL PERCEPTRÓN SIMPLE\")\n",
        "print(\"=\" * 70)\n",
        "\n",
        "print(\"\\n1. SOLO PROBLEMAS LINEALMENTE SEPARABLES\")\n",
        "print(\"-\" * 70)\n",
        "print(\"El perceptrón solo puede aprender patrones que se pueden separar con\")\n",
        "print(\"una línea recta (en 2D) o un hiperplano (en >2D).\")\n",
        "print(\"\\nEjemplo clásico: No puede resolver XOR (Minsky & Papert, 1969)\")\n",
        "print(\"\\nXOR:  A  B  | Salida\")\n",
        "print(\"      0  0  |   0\")\n",
        "print(\"      0  1  |   1\")\n",
        "print(\"      1  0  |   1\")\n",
        "print(\"      1  1  |   0\")\n",
        "print(\"\\nNo existe una línea recta que separe correctamente estos 4 puntos.\")\n",
        "\n",
        "print(\"\\n2. IGNORA EL ORDEN DE LAS PALABRAS\")\n",
        "print(\"-\" * 70)\n",
        "print(\"Bag of Words trata 'No me gusta' igual que 'Me gusta, no'\")\n",
        "print(\"El modelo no captura negaciones ni contexto.\")\n",
        "\n",
        "print(\"\\n3. NO CAPTURA RELACIONES COMPLEJAS\")\n",
        "print(\"-\" * 70)\n",
        "print(\"Solo aprende combinaciones lineales de features.\")\n",
        "print(\"No puede modelar interacciones entre palabras (ej: 'no muy bueno').\")\n",
        "\n",
        "print(\"\\n4. FUNCIÓN DE ACTIVACIÓN NO DIFERENCIABLE\")\n",
        "print(\"-\" * 70)\n",
        "print(\"La función escalón no tiene derivada en z=0.\")\n",
        "print(\"Esto impide usar backpropagation para redes multicapa.\")\n",
        "\n",
        "print(\"\\n5. SENSIBLE A OUTLIERS Y RUIDO\")\n",
        "print(\"-\" * 70)\n",
        "print(\"Un solo ejemplo mal etiquetado puede impedir convergencia.\")\n",
        "\n",
        "print(\"\\n\" + \"=\" * 70)\n",
        "print(\"SOLUCIÓN: Redes Neuronales Multicapa (MLP)\")\n",
        "print(\"=\" * 70)\n",
        "print(\"Agregar capas ocultas permite:\")\n",
        "print(\"- Resolver problemas no linealmente separables (como XOR)\")\n",
        "print(\"- Aprender representaciones jerárquicas\")\n",
        "print(\"- Capturar interacciones complejas entre features\")\n",
        "print(\"\\nEsto lo veremos en el próximo notebook con PyTorch.\")"
      ]
    },
    {
      "cell_type": "markdown",
      "metadata": {
        "id": "D8RX_wRyb4Uk"
      },
      "source": [
        "---\n",
        "\n",
        "## Guía Teórico-Conceptual\n",
        "\n",
        "### 1. Historia y Contexto del Perceptrón\n",
        "\n",
        "**1943**: McCulloch y Pitts proponen el primer modelo matemático de neurona\n",
        "\n",
        "**1958**: Frank Rosenblatt construye el Mark I Perceptron en Cornell, una computadora analógica que podía aprender a reconocer patrones visuales\n",
        "\n",
        "**1960s**: Optimismo inicial. Se pensaba que los perceptrones podrían resolver cualquier problema de reconocimiento de patrones\n",
        "\n",
        "**1969**: Minsky y Papert publican \"Perceptrons\", demostrando matemáticamente sus limitaciones (no puede resolver XOR ni problemas no lineales). Esto causó el primer \"invierno de la IA\"\n",
        "\n",
        "**1986**: Rumelhart, Hinton y Williams popularizaron backpropagation, permitiendo entrenar redes multicapa y superar las limitaciones del perceptrón simple\n",
        "\n",
        "**Hoy**: El perceptrón es el building block de redes con millones de neuronas (BERT tiene 110M de parámetros)\n",
        "\n",
        "### 2. Fundamentos Matemáticos\n",
        "\n",
        "**Producto punto como similitud:**\n",
        "\n",
        "El producto punto $w \\cdot x$ mide la similitud entre el vector de pesos y el vector de entrada:\n",
        "- Si son similares (apuntan en la misma dirección): producto alto\n",
        "- Si son opuestos: producto bajo o negativo\n",
        "- Si son ortogonales: producto cero\n",
        "\n",
        "**Interpretación geométrica:**\n",
        "\n",
        "El perceptrón define un hiperplano en el espacio de features:\n",
        "$$w_1 x_1 + w_2 x_2 + ... + w_n x_n + b = 0$$\n",
        "\n",
        "- Un lado del hiperplano: clase 1\n",
        "- Otro lado: clase 0\n",
        "- El vector w es perpendicular al hiperplano\n",
        "- El bias b desplaza el hiperplano del origen\n",
        "\n",
        "**Convergencia:**\n",
        "\n",
        "Teorema de convergencia del perceptrón (Rosenblatt, 1958):\n",
        "> Si los datos son linealmente separables, el algoritmo del perceptrón converge en un número finito de pasos.\n",
        "\n",
        "Pero: No hay garantía sobre cuántas iteraciones necesitará.\n",
        "\n",
        "### 3. Relación con Descenso de Gradiente\n",
        "\n",
        "La regla de actualización del perceptrón es un caso especial de descenso de gradiente:\n",
        "\n",
        "**Descenso de gradiente general:**\n",
        "$$w_{nuevo} = w_{viejo} - \\alpha \\frac{\\partial L}{\\partial w}$$\n",
        "\n",
        "**Perceptrón:**\n",
        "$$w_{nuevo} = w_{viejo} + \\alpha \\cdot error \\cdot x$$\n",
        "\n",
        "El perceptrón actualiza pesos solo cuando hay error (gradiente implícito de 0 cuando no hay error).\n",
        "\n",
        "### 4. Comparación: Perceptrón vs. Regresión Logística\n",
        "\n",
        "| Característica | Perceptrón | Regresión Logística |\n",
        "|----------------|------------|---------------------|\n",
        "| Función de activación | Escalón | Sigmoide |\n",
        "| Salida | Binaria (0 o 1) | Probabilidad (0 a 1) |\n",
        "| Diferenciable | No | Sí |\n",
        "| Función de pérdida | Errores de clasificación | Cross-entropy |\n",
        "| Actualización | Solo cuando hay error | Siempre (proporcional al gradiente) |\n",
        "| Convergencia | Garantizada si linealmente separable | Siempre converge (convexo) |\n",
        "| Interpretación | Clasificador duro | Clasificador probabilístico |\n",
        "\n",
        "### 5. Problema XOR: El Límite de la Linealidad\n",
        "\n",
        "XOR (OR exclusivo) es el ejemplo clásico de problema no linealmente separable:\n",
        "\n",
        "```\n",
        "Entrada (x₁, x₂)  | Salida\n",
        "(0, 0)            | 0\n",
        "(0, 1)            | 1  \n",
        "(1, 0)            | 1\n",
        "(1, 1)            | 0\n",
        "```\n",
        "\n",
        "Si graficamos en 2D:\n",
        "```\n",
        "  x₂\n",
        "  |\n",
        "1 | 1   0    ← No hay línea recta que separe\n",
        "  |           los 1s de los 0s\n",
        "0 | 0   1\n",
        "  +--------- x₁\n",
        "    0   1\n",
        "```\n",
        "\n",
        "**Solución:** Red multicapa (MLP) con una capa oculta puede resolver XOR al proyectar los datos a un espacio de mayor dimensión donde SÍ son linealmente separables.\n",
        "\n",
        "### 6. Tasa de Aprendizaje: Finding the Sweet Spot\n",
        "\n",
        "El hiperparámetro α (learning rate) controla cuánto ajustamos los pesos en cada paso:\n",
        "\n",
        "**α muy pequeño (ej: 0.001):**\n",
        "- Pro: Actualizaciones suaves, convergencia estable\n",
        "- Contra: Aprendizaje muy lento, muchas épocas necesarias\n",
        "\n",
        "**α muy grande (ej: 10):**\n",
        "- Pro: Aprendizaje rápido inicialmente\n",
        "- Contra: Puede oscilar sin converger, inestabilidad\n",
        "\n",
        "**α óptimo (ej: 0.1 - 0.5):**\n",
        "- Balance entre velocidad y estabilidad\n",
        "- Depende del problema y la escala de los datos\n",
        "\n",
        "**Estrategias modernas:**\n",
        "- Learning rate decay: Empezar alto y reducir gradualmente\n",
        "- Optimizadores adaptativos (Adam, RMSprop): Ajustan α automáticamente\n",
        "\n",
        "### 7. Del Perceptrón al Deep Learning\n",
        "\n",
        "El camino evolutivo:\n",
        "\n",
        "1. **Perceptrón simple** (1958): Una neurona, función escalón\n",
        "2. **Adaline** (1960): Una neurona, función lineal, descenso de gradiente\n",
        "3. **MLP (Perceptrón Multicapa)** (1986): Múltiples capas, backpropagation\n",
        "4. **Redes Convolucionales (CNN)** (1998): Para imágenes, LeCun\n",
        "5. **Redes Recurrentes (RNN/LSTM)** (1997): Para secuencias temporales\n",
        "6. **Transformers** (2017): Attention, BERT, GPT\n",
        "\n",
        "**Elemento común:** Todos usan variaciones de la regla básica w = w + Δw que vimos en el perceptrón."
      ]
    },
    {
      "cell_type": "markdown",
      "metadata": {
        "id": "niCpdmMAb4Ul"
      },
      "source": [
        "---\n",
        "\n",
        "## Preguntas y Respuestas para Estudio\n",
        "\n",
        "### Preguntas Conceptuales\n",
        "\n",
        "**1. ¿Por qué se dice que el perceptrón es un \"clasificador lineal\"?**\n",
        "\n",
        "*Respuesta:* Porque la frontera de decisión que aprende es lineal (una línea en 2D, un hiperplano en dimensiones superiores). La ecuación $w_1x_1 + w_2x_2 + ... + w_nx_n + b = 0$ define un hiperplano que separa las dos clases. Todo lo que esté de un lado se clasifica como 1, del otro como 0.\n",
        "\n",
        "**2. ¿Qué significa \"linealmente separable\"?**\n",
        "\n",
        "*Respuesta:* Un conjunto de datos es linealmente separable si existe un hiperplano que puede seperar perfectamente las dos clases. Por ejemplo, en 2D significa que podemos dibujar una línea recta que deje todos los puntos de una clase a un lado y todos los de la otra clase al otro lado.\n",
        "\n",
        "**3. ¿Por qué el perceptrón no puede resolver XOR?**\n",
        "\n",
        "*Respuesta:* Porque XOR no es linealmente separable. Si graficamos los 4 puntos de XOR en 2D, no existe ninguna línea recta que separe correctamente los 1s de los 0s. Necesitaríamos una frontera de decisión curva o quebrada, lo cual requiere una red multicapa.\n",
        "\n",
        "**4. ¿Cuál es la diferencia entre una época y una iteración?**\n",
        "\n",
        "*Respuesta:*\n",
        "- **Iteración**: Una actualización de pesos (procesar una muestra o un batch)\n",
        "- **Época**: Una pasada completa por todo el dataset de entrenamiento\n",
        "\n",
        "Si tenemos 100 muestras y procesamos una a la vez, una época = 100 iteraciones.\n",
        "\n",
        "**5. ¿Por qué inicializamos los pesos aleatoriamente y no en cero?**\n",
        "\n",
        "*Respuesta:* Si todos los pesos empiezan en cero (o el mismo valor), todas las neuronas aprenderán lo mismo (simetría). La inicialización aleatoria rompe esta simetría, permitiendo que cada neurona especialice en features diferentes. En redes multicapa esto es crítico.\n",
        "\n",
        "### Preguntas Técnicas\n",
        "\n",
        "**6. En la regla de actualización w = w + α × error × x, ¿qué pasa si error = 0?**\n",
        "\n",
        "*Respuesta:* No se actualizan los pesos (w = w + 0 = w). Esto es eficiente: solo ajustamos cuando el modelo se equivoca. En contraste, algoritmos como gradient descent actualizan pesos en cada iteración, incluso cuando la predicción es correcta.\n",
        "\n",
        "**7. ¿Por qué multiplicamos por x_i en la actualización de pesos?**\n",
        "\n",
        "*Respuesta:* Es la regla de Hebbian: \"neuronas que disparan juntas, se conectan juntas\". Si x_i es grande (la feature está presente) y hay error, queremos ajustar mucho ese peso porque esa feature es relevante. Si x_i = 0 (feature ausente), ese peso no se actualiza porque no influyó en la predicción.\n",
        "\n",
        "**8. ¿Qué representa el bias (sesgo) geométricamente?**\n",
        "\n",
        "*Respuesta:* El bias desplaza el hiperplano de decisión desde el origen. Sin bias, el hiperplano siempre pasa por (0,0,...,0). El bias permite mover el hiperplano para ajustarse mejor a los datos. Es equivalente a agregar una feature constante = 1.\n",
        "\n",
        "**9. Si el historial de errores oscila sin bajar, ¿qué podría estar pasando?**\n",
        "\n",
        "*Respuesta:* Tres posibilidades:\n",
        "1. **Problema no linealmente separable**: No existe solución perfecta\n",
        "2. **Learning rate muy alto**: Oscila alrededor del mínimo sin converger\n",
        "3. **Ruido en los datos**: Ejemplos contradictorios o mal etiquetados\n",
        "\n",
        "**10. ¿Por qué np.dot(w, x) y no un bucle for?**\n",
        "\n",
        "*Respuesta:* El producto punto está altamente optimizado en NumPy (usa BLAS, instrucciones SIMD). Es 100-1000x más rápido que un bucle Python. Esta diferencia es crítica en deep learning donde hacemos millones de estas operaciones.\n",
        "\n",
        "### Preguntas de Aplicación\n",
        "\n",
        "**11. Si tuvieras un dataset con 3 clases (positivo, negativo, neutral), ¿podrías usar un perceptrón simple?**\n",
        "\n",
        "*Respuesta:* No directamente. El perceptrón simple es binario. Soluciones:\n",
        "1. **One-vs-Rest**: Entrenar 3 perceptrones (positivo vs resto, negativo vs resto, neutral vs resto)\n",
        "2. **Softmax**: Usar una red con múltiples salidas y función softmax (generalización del perceptrón)\n",
        "3. **Descomposición binaria**: Positivo vs no-positivo, luego negativo vs neutral\n",
        "\n",
        "**12. ¿En qué casos un perceptrón simple podría ser preferible a una red neuronal profunda?**\n",
        "\n",
        "*Respuesta:*\n",
        "- Dataset muy pequeño (< 100 muestras)\n",
        "- Problema conocidamente lineal\n",
        "- Necesidad de interpretabilidad extrema (pesos son directamente interpretables)\n",
        "- Recursos computacionales MUY limitados\n",
        "- Como baseline rápido antes de modelos complejos\n",
        "\n",
        "**13. Si el modelo converge en la época 5 pero seguís entrenando 15 épocas más, ¿qué puede pasar?**\n",
        "\n",
        "*Respuesta:* Con el perceptrón simple, no pasa nada malo. Una vez que error = 0, los pesos dejan de actualizarse. Sin embargo, en redes más complejas, entrenar de más puede causar overfitting. Es buena práctica usar \"early stopping\": detener cuando la validación deja de mejorar.\n",
        "\n",
        "**14. ¿Cómo adaptarías este código para procesar el dataset amazon_cells_labelled.txt del Notebook 1?**\n",
        "\n",
        "*Respuesta:*\n",
        "```python\n",
        "# 1. Cargar datos\n",
        "df = pd.read_csv('amazon_cells_labelled.txt', sep='\\t', names=['review', 'sentiment'])\n",
        "\n",
        "# 2. Construir vocabulario automáticamente\n",
        "from sklearn.feature_extraction.text import CountVectorizer\n",
        "vectorizer = CountVectorizer(binary=True, max_features=50)\n",
        "X = vectorizer.fit_transform(df['review']).toarray()\n",
        "y = df['sentiment'].values\n",
        "\n",
        "# 3. Entrenar (el código del perceptrón es el mismo)\n",
        "```\n",
        "\n",
        "**15. Explicá por qué Bag of Words binario pierde información. ¿Qué alternativas hay?**\n",
        "\n",
        "*Respuesta:* Bag of Words binario solo indica presencia/ausencia, ignorando:\n",
        "1. **Frecuencia**: \"muy muy bueno\" se representa igual que \"muy bueno\"\n",
        "2. **Orden**: \"no me gusta\" = \"me gusta no\"\n",
        "3. **Contexto**: No captura bi-gramas ni tri-gramas\n",
        "\n",
        "**Alternativas:**\n",
        "- **Conteos**: [1, 2, 0, 1] en vez de binario\n",
        "- **TF-IDF**: Ponderar por importancia en el corpus\n",
        "- **N-gramas**: Incluir pares/triples de palabras\n",
        "- **Embeddings**: Word2Vec, GloVe, BERT (representaciones densas)"
      ]
    },
    {
      "cell_type": "markdown",
      "metadata": {
        "id": "zinL5w_Xb4Um"
      },
      "source": [
        "---\n",
        "\n",
        "## Ejercicios Propuestos\n",
        "\n",
        "### Ejercicio 1: Experimentación con Learning Rate\n",
        "Entrená el perceptrón con diferentes tasas de aprendizaje: 0.01, 0.1, 0.5, 1.0, 5.0. Graficá las curvas de aprendizaje. ¿Cuál converge más rápido? ¿Alguna no converge?\n",
        "\n",
        "### Ejercicio 2: Dataset Aumentado\n",
        "Agregá 10 frases más al corpus (5 positivas, 5 negativas). Re-entrená y compará:\n",
        "- ¿Converge en menos épocas?\n",
        "- ¿Los pesos cambián significativamente?\n",
        "- ¿Mejora la generalización?\n",
        "\n",
        "### Ejercicio 3: Visualización de la Frontera de Decisión\n",
        "Si tu vocabulario tiene solo 2 palabras, podés graficar la frontera de decisión en 2D:\n",
        "```python\n",
        "# Pseudo-código\n",
        "x1 = np.linspace(0, 1, 100)\n",
        "x2 = -(w[0]*x1 + bias) / w[1]  # Despejar de w1*x1 + w2*x2 + b = 0\n",
        "plt.plot(x1, x2)  # Línea de decisión\n",
        "plt.scatter(X[:, 0], X[:, 1], c=y)  # Puntos de datos\n",
        "```\n",
        "Implementalo con un vocabulario reducido.\n",
        "\n",
        "### Ejercicio 4: Problema XOR\n",
        "Intentá entrenar el perceptrón con el problema XOR:\n",
        "```python\n",
        "X_xor = np.array([[0,0], [0,1], [1,0], [1,1]])\n",
        "y_xor = np.array([0, 1, 1, 0])\n",
        "```\n",
        "Observá que no converge. Graficá la frontera de decisión y los puntos para visualizar por qué.\n",
        "\n",
        "### Ejercicio 5: Implementar Regresión Logística desde Cero\n",
        "Modificá el código para usar función sigmoide en vez de escalón:\n",
        "```python\n",
        "def sigmoid(z):\n",
        "    return 1 / (1 + np.exp(-z))\n",
        "```\n",
        "Cambiar la regla de actualización a:\n",
        "```python\n",
        "error = y_real - sigmoid(z)  # Error continuo\n",
        "```\n",
        "Compará con el perceptrón original.\n",
        "\n",
        "---\n",
        "\n",
        "## Conclusión\n",
        "\n",
        "En este notebook construimos desde cero el modelo fundamental de las redes neuronales. Aprendimos:\n",
        "\n",
        "1. **Arquitectura de una neurona artificial**: Pesos, bias, suma ponderada, función de activación\n",
        "2. **Regla de aprendizaje**: Ajuste de pesos basado en errores\n",
        "3. **Implementación manual**: Todo con NumPy, sin frameworks\n",
        "4. **Limitaciones fundamentales**: Problemas linealmente separables, XOR, función no diferenciable\n",
        "5. **Intuición sobre descenso de gradiente**: Base conceptual para backpropagation\n",
        "\n",
        "### ¿Qué sigue?\n",
        "\n",
        "Las limitaciones del perceptrón motivaron el desarrollo de **redes multicapa** (MLP). En el próximo notebook vamos a:\n",
        "- Usar PyTorch para construir una red con capas ocultas\n",
        "- Resolver problemas no lineales\n",
        "- Usar funciones de activación diferenciables (ReLU, Sigmoid)\n",
        "- Aprovechar backpropagation automática\n",
        "\n",
        "Pero ahora ya entendés qué hace PyTorch por debajo: multiplicaciones matriciales, actualizaciones de pesos y funciones no lineales. No es magia, es matemática que acabás de implementar vos mismo.\n",
        "\n",
        "---\n",
        "\n",
        "*Este material fue desarrollado con fines educativos para la Tecnicatura en Ciencia de Datos del IFTS.*"
      ]
    }
  ],
  "metadata": {
    "kernelspec": {
      "display_name": "Python 3",
      "language": "python",
      "name": "python3"
    },
    "language_info": {
      "codemirror_mode": {
        "name": "ipython",
        "version": 3
      },
      "file_extension": ".py",
      "mimetype": "text/x-python",
      "name": "python",
      "nbconvert_exporter": "python",
      "pygments_lexer": "ipython3",
      "version": "3.8.0"
    },
    "colab": {
      "provenance": []
    }
  },
  "nbformat": 4,
  "nbformat_minor": 0
}